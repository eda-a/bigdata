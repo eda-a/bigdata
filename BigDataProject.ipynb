{
 "cells": [
  {
   "cell_type": "code",
   "execution_count": 2,
   "metadata": {},
   "outputs": [],
   "source": [
    "import folium"
   ]
  },
  {
   "cell_type": "code",
   "execution_count": 4,
   "metadata": {
    "scrolled": true
   },
   "outputs": [
    {
     "data": {
      "text/html": [
       "<div style=\"width:100%;\"><div style=\"position:relative;width:100%;height:0;padding-bottom:60%;\"><iframe src=\"data:text/html;charset=utf-8;base64,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\" style=\"position:absolute;width:100%;height:100%;left:0;top:0;border:none !important;\" allowfullscreen webkitallowfullscreen mozallowfullscreen></iframe></div></div>"
      ],
      "text/plain": [
       "<folium.folium.Map at 0x1123bac18>"
      ]
     },
     "execution_count": 4,
     "metadata": {},
     "output_type": "execute_result"
    }
   ],
   "source": [
    "m = folium.Map(location=[40.740812828, -73.9584301552])\n",
    "m"
   ]
  },
  {
   "cell_type": "code",
   "execution_count": 16,
   "metadata": {},
   "outputs": [
    {
     "data": {
      "text/html": [
       "<div style=\"width:100%;\"><div style=\"position:relative;width:100%;height:0;padding-bottom:60%;\"><iframe src=\"data:text/html;charset=utf-8;base64,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\" style=\"position:absolute;width:100%;height:100%;left:0;top:0;border:none !important;\" allowfullscreen webkitallowfullscreen mozallowfullscreen></iframe></div></div>"
      ],
      "text/plain": [
       "<folium.folium.Map at 0x11244d2e8>"
      ]
     },
     "execution_count": 16,
     "metadata": {},
     "output_type": "execute_result"
    }
   ],
   "source": [
    "m1 = folium.Map(location=[40.7389142668, -73.994145042], zoomstart=80, API_key='https://us-central1-taxi-238916.cloudfunctions.net/quadrants')\n",
    "m1"
   ]
  },
  {
   "cell_type": "code",
   "execution_count": 10,
   "metadata": {},
   "outputs": [
    {
     "ename": "SyntaxError",
     "evalue": "invalid syntax (<ipython-input-10-2509c4b29783>, line 2)",
     "output_type": "error",
     "traceback": [
      "\u001b[0;36m  File \u001b[0;32m\"<ipython-input-10-2509c4b29783>\"\u001b[0;36m, line \u001b[0;32m2\u001b[0m\n\u001b[0;31m    marker = folium.Marker(m1, popup= <strong>)\u001b[0m\n\u001b[0m                                      ^\u001b[0m\n\u001b[0;31mSyntaxError\u001b[0m\u001b[0;31m:\u001b[0m invalid syntax\n"
     ]
    }
   ],
   "source": [
    "#create a marker\n",
    "marker = folium.Marker(m1, popup= <strong>)"
   ]
  },
  {
   "cell_type": "code",
   "execution_count": null,
   "metadata": {},
   "outputs": [],
   "source": []
  },
  {
   "cell_type": "code",
   "execution_count": 2,
   "metadata": {},
   "outputs": [],
   "source": [
    "import requests"
   ]
  },
  {
   "cell_type": "code",
   "execution_count": 4,
   "metadata": {},
   "outputs": [
    {
     "data": {
      "text/plain": [
       "<Response [200]>"
      ]
     },
     "execution_count": 4,
     "metadata": {},
     "output_type": "execute_result"
    }
   ],
   "source": [
    "r = requests.get('https://api.github.com/events')\n",
    "r"
   ]
  },
  {
   "cell_type": "code",
   "execution_count": 6,
   "metadata": {},
   "outputs": [
    {
     "data": {
      "text/plain": [
       "<Response [200]>"
      ]
     },
     "execution_count": 6,
     "metadata": {},
     "output_type": "execute_result"
    }
   ],
   "source": [
    "r = requests.post('https://httpbin.org/post', data = {'key':'value'})\n",
    "r"
   ]
  },
  {
   "cell_type": "code",
   "execution_count": null,
   "metadata": {},
   "outputs": [],
   "source": []
  },
  {
   "cell_type": "code",
   "execution_count": 9,
   "metadata": {},
   "outputs": [
    {
     "name": "stdout",
     "output_type": "stream",
     "text": [
      "[]\n",
      "\n"
     ]
    }
   ],
   "source": [
    "r1 = requests.get('https://us-central1-taxi-238916.cloudfunctions.net/quadrants')\n",
    "print(r1.text) #to get data"
   ]
  },
  {
   "cell_type": "code",
   "execution_count": 19,
   "metadata": {},
   "outputs": [
    {
     "name": "stdout",
     "output_type": "stream",
     "text": [
      "[{\"Lat_Max\":40.740812828,\"Lat_Min\":40.7389142668,\"Lon_Max\":-73.9584301552,\"Lon_Min\":-73.994145042,\"X_Coordinate\":20,\"Y_Coordinate\":31,\"prediction\":51.6153300044},{\"Lat_Max\":40.740812828,\"Lat_Min\":40.7389142668,\"Lon_Max\":-73.956531594,\"Lon_Min\":-73.9933373301,\"X_Coordinate\":20,\"Y_Coordinate\":32,\"prediction\":51.6153300044},{\"Lat_Max\":40.740812828,\"Lat_Min\":40.7389142668,\"Lon_Max\":-73.9546330328,\"Lon_Min\":-73.9925296181,\"X_Coordinate\":20,\"Y_Coordinate\":33,\"prediction\":51.6153300044},{\"Lat_Max\":40.740812828,\"Lat_Min\":40.7389142668,\"Lon_Max\":-73.9527344717,\"Lon_Min\":-73.9917219062,\"X_Coordinate\":20,\"Y_Coordinate\":34,\"prediction\":51.6153300044},{\"Lat_Max\":40.740812828,\"Lat_Min\":40.7389142668,\"Lon_Max\":-73.9508359105,\"Lon_Min\":-73.9909141942,\"X_Coordinate\":20,\"Y_Coordinate\":35,\"prediction\":51.6153300044},{\"Lat_Max\":40.7427113892,\"Lat_Min\":40.740812828,\"Lon_Max\":-73.9584301552,\"Lon_Min\":-73.994145042,\"X_Coordinate\":21,\"Y_Coordinate\":31,\"prediction\":51.6213334623},{\"Lat_Max\":40.7427113892,\"Lat_Min\":40.740812828,\"Lon_Max\":-73.956531594,\"Lon_Min\":-73.9933373301,\"X_Coordinate\":21,\"Y_Coordinate\":32,\"prediction\":51.6213334623},{\"Lat_Max\":40.7427113892,\"Lat_Min\":40.740812828,\"Lon_Max\":-73.9546330328,\"Lon_Min\":-73.9925296181,\"X_Coordinate\":21,\"Y_Coordinate\":33,\"prediction\":51.6213334623},{\"Lat_Max\":40.7427113892,\"Lat_Min\":40.740812828,\"Lon_Max\":-73.9527344717,\"Lon_Min\":-73.9917219062,\"X_Coordinate\":21,\"Y_Coordinate\":34,\"prediction\":51.6213334623},{\"Lat_Max\":40.7427113892,\"Lat_Min\":40.740812828,\"Lon_Max\":-73.9508359105,\"Lon_Min\":-73.9909141942,\"X_Coordinate\":21,\"Y_Coordinate\":35,\"prediction\":51.6213334623},{\"Lat_Max\":40.7446099503,\"Lat_Min\":40.7427113892,\"Lon_Max\":-73.9584301552,\"Lon_Min\":-73.994145042,\"X_Coordinate\":22,\"Y_Coordinate\":31,\"prediction\":51.6327852635},{\"Lat_Max\":40.7446099503,\"Lat_Min\":40.7427113892,\"Lon_Max\":-73.956531594,\"Lon_Min\":-73.9933373301,\"X_Coordinate\":22,\"Y_Coordinate\":32,\"prediction\":51.6327852635},{\"Lat_Max\":40.7446099503,\"Lat_Min\":40.7427113892,\"Lon_Max\":-73.9546330328,\"Lon_Min\":-73.9925296181,\"X_Coordinate\":22,\"Y_Coordinate\":33,\"prediction\":51.6331111356},{\"Lat_Max\":40.7446099503,\"Lat_Min\":40.7427113892,\"Lon_Max\":-73.9527344717,\"Lon_Min\":-73.9917219062,\"X_Coordinate\":22,\"Y_Coordinate\":34,\"prediction\":51.6331111356},{\"Lat_Max\":40.7446099503,\"Lat_Min\":40.7427113892,\"Lon_Max\":-73.9508359105,\"Lon_Min\":-73.9909141942,\"X_Coordinate\":22,\"Y_Coordinate\":35,\"prediction\":51.6331111356},{\"Lat_Max\":40.7465085115,\"Lat_Min\":40.7446099503,\"Lon_Max\":-73.9584301552,\"Lon_Min\":-73.994145042,\"X_Coordinate\":23,\"Y_Coordinate\":31,\"prediction\":51.6327852635},{\"Lat_Max\":40.7465085115,\"Lat_Min\":40.7446099503,\"Lon_Max\":-73.956531594,\"Lon_Min\":-73.9933373301,\"X_Coordinate\":23,\"Y_Coordinate\":32,\"prediction\":51.6327852635},{\"Lat_Max\":40.7465085115,\"Lat_Min\":40.7446099503,\"Lon_Max\":-73.9546330328,\"Lon_Min\":-73.9925296181,\"X_Coordinate\":23,\"Y_Coordinate\":33,\"prediction\":51.6244357316},{\"Lat_Max\":40.7465085115,\"Lat_Min\":40.7446099503,\"Lon_Max\":-73.9527344717,\"Lon_Min\":-73.9917219062,\"X_Coordinate\":23,\"Y_Coordinate\":34,\"prediction\":51.6244357316},{\"Lat_Max\":40.7465085115,\"Lat_Min\":40.7446099503,\"Lon_Max\":-73.9508359105,\"Lon_Min\":-73.9909141942,\"X_Coordinate\":23,\"Y_Coordinate\":35,\"prediction\":51.6244357316},{\"Lat_Max\":40.7484070727,\"Lat_Min\":40.7465085115,\"Lon_Max\":-73.9584301552,\"Lon_Min\":-73.994145042,\"X_Coordinate\":24,\"Y_Coordinate\":31,\"prediction\":45.4235689681},{\"Lat_Max\":40.7484070727,\"Lat_Min\":40.7465085115,\"Lon_Max\":-73.956531594,\"Lon_Min\":-73.9933373301,\"X_Coordinate\":24,\"Y_Coordinate\":32,\"prediction\":45.5234213911},{\"Lat_Max\":40.7484070727,\"Lat_Min\":40.7465085115,\"Lon_Max\":-73.9546330328,\"Lon_Min\":-73.9925296181,\"X_Coordinate\":24,\"Y_Coordinate\":33,\"prediction\":45.5234213911},{\"Lat_Max\":40.7484070727,\"Lat_Min\":40.7465085115,\"Lon_Max\":-73.9527344717,\"Lon_Min\":-73.9917219062,\"X_Coordinate\":24,\"Y_Coordinate\":34,\"prediction\":45.4880886431},{\"Lat_Max\":40.7484070727,\"Lat_Min\":40.7465085115,\"Lon_Max\":-73.9508359105,\"Lon_Min\":-73.9909141942,\"X_Coordinate\":24,\"Y_Coordinate\":35,\"prediction\":45.4972631804}]\n",
      "\n"
     ]
    }
   ],
   "source": [
    "url = 'https://us-central1-taxi-238916.cloudfunctions.net/quadrants?latitude=40.743595562&longitude=-73.9925164851'\n",
    "r2 = requests.get(url)\n",
    "print(r2.text) "
   ]
  },
  {
   "cell_type": "code",
   "execution_count": 20,
   "metadata": {},
   "outputs": [
    {
     "data": {
      "text/plain": [
       "[{'Lat_Max': 40.740812828,\n",
       "  'Lat_Min': 40.7389142668,\n",
       "  'Lon_Max': -73.9584301552,\n",
       "  'Lon_Min': -73.994145042,\n",
       "  'X_Coordinate': 20,\n",
       "  'Y_Coordinate': 31,\n",
       "  'prediction': 51.6153300044},\n",
       " {'Lat_Max': 40.740812828,\n",
       "  'Lat_Min': 40.7389142668,\n",
       "  'Lon_Max': -73.956531594,\n",
       "  'Lon_Min': -73.9933373301,\n",
       "  'X_Coordinate': 20,\n",
       "  'Y_Coordinate': 32,\n",
       "  'prediction': 51.6153300044},\n",
       " {'Lat_Max': 40.740812828,\n",
       "  'Lat_Min': 40.7389142668,\n",
       "  'Lon_Max': -73.9546330328,\n",
       "  'Lon_Min': -73.9925296181,\n",
       "  'X_Coordinate': 20,\n",
       "  'Y_Coordinate': 33,\n",
       "  'prediction': 51.6153300044},\n",
       " {'Lat_Max': 40.740812828,\n",
       "  'Lat_Min': 40.7389142668,\n",
       "  'Lon_Max': -73.9527344717,\n",
       "  'Lon_Min': -73.9917219062,\n",
       "  'X_Coordinate': 20,\n",
       "  'Y_Coordinate': 34,\n",
       "  'prediction': 51.6153300044},\n",
       " {'Lat_Max': 40.740812828,\n",
       "  'Lat_Min': 40.7389142668,\n",
       "  'Lon_Max': -73.9508359105,\n",
       "  'Lon_Min': -73.9909141942,\n",
       "  'X_Coordinate': 20,\n",
       "  'Y_Coordinate': 35,\n",
       "  'prediction': 51.6153300044},\n",
       " {'Lat_Max': 40.7427113892,\n",
       "  'Lat_Min': 40.740812828,\n",
       "  'Lon_Max': -73.9584301552,\n",
       "  'Lon_Min': -73.994145042,\n",
       "  'X_Coordinate': 21,\n",
       "  'Y_Coordinate': 31,\n",
       "  'prediction': 51.6213334623},\n",
       " {'Lat_Max': 40.7427113892,\n",
       "  'Lat_Min': 40.740812828,\n",
       "  'Lon_Max': -73.956531594,\n",
       "  'Lon_Min': -73.9933373301,\n",
       "  'X_Coordinate': 21,\n",
       "  'Y_Coordinate': 32,\n",
       "  'prediction': 51.6213334623},\n",
       " {'Lat_Max': 40.7427113892,\n",
       "  'Lat_Min': 40.740812828,\n",
       "  'Lon_Max': -73.9546330328,\n",
       "  'Lon_Min': -73.9925296181,\n",
       "  'X_Coordinate': 21,\n",
       "  'Y_Coordinate': 33,\n",
       "  'prediction': 51.6213334623},\n",
       " {'Lat_Max': 40.7427113892,\n",
       "  'Lat_Min': 40.740812828,\n",
       "  'Lon_Max': -73.9527344717,\n",
       "  'Lon_Min': -73.9917219062,\n",
       "  'X_Coordinate': 21,\n",
       "  'Y_Coordinate': 34,\n",
       "  'prediction': 51.6213334623},\n",
       " {'Lat_Max': 40.7427113892,\n",
       "  'Lat_Min': 40.740812828,\n",
       "  'Lon_Max': -73.9508359105,\n",
       "  'Lon_Min': -73.9909141942,\n",
       "  'X_Coordinate': 21,\n",
       "  'Y_Coordinate': 35,\n",
       "  'prediction': 51.6213334623},\n",
       " {'Lat_Max': 40.7446099503,\n",
       "  'Lat_Min': 40.7427113892,\n",
       "  'Lon_Max': -73.9584301552,\n",
       "  'Lon_Min': -73.994145042,\n",
       "  'X_Coordinate': 22,\n",
       "  'Y_Coordinate': 31,\n",
       "  'prediction': 51.6327852635},\n",
       " {'Lat_Max': 40.7446099503,\n",
       "  'Lat_Min': 40.7427113892,\n",
       "  'Lon_Max': -73.956531594,\n",
       "  'Lon_Min': -73.9933373301,\n",
       "  'X_Coordinate': 22,\n",
       "  'Y_Coordinate': 32,\n",
       "  'prediction': 51.6327852635},\n",
       " {'Lat_Max': 40.7446099503,\n",
       "  'Lat_Min': 40.7427113892,\n",
       "  'Lon_Max': -73.9546330328,\n",
       "  'Lon_Min': -73.9925296181,\n",
       "  'X_Coordinate': 22,\n",
       "  'Y_Coordinate': 33,\n",
       "  'prediction': 51.6331111356},\n",
       " {'Lat_Max': 40.7446099503,\n",
       "  'Lat_Min': 40.7427113892,\n",
       "  'Lon_Max': -73.9527344717,\n",
       "  'Lon_Min': -73.9917219062,\n",
       "  'X_Coordinate': 22,\n",
       "  'Y_Coordinate': 34,\n",
       "  'prediction': 51.6331111356},\n",
       " {'Lat_Max': 40.7446099503,\n",
       "  'Lat_Min': 40.7427113892,\n",
       "  'Lon_Max': -73.9508359105,\n",
       "  'Lon_Min': -73.9909141942,\n",
       "  'X_Coordinate': 22,\n",
       "  'Y_Coordinate': 35,\n",
       "  'prediction': 51.6331111356},\n",
       " {'Lat_Max': 40.7465085115,\n",
       "  'Lat_Min': 40.7446099503,\n",
       "  'Lon_Max': -73.9584301552,\n",
       "  'Lon_Min': -73.994145042,\n",
       "  'X_Coordinate': 23,\n",
       "  'Y_Coordinate': 31,\n",
       "  'prediction': 51.6327852635},\n",
       " {'Lat_Max': 40.7465085115,\n",
       "  'Lat_Min': 40.7446099503,\n",
       "  'Lon_Max': -73.956531594,\n",
       "  'Lon_Min': -73.9933373301,\n",
       "  'X_Coordinate': 23,\n",
       "  'Y_Coordinate': 32,\n",
       "  'prediction': 51.6327852635},\n",
       " {'Lat_Max': 40.7465085115,\n",
       "  'Lat_Min': 40.7446099503,\n",
       "  'Lon_Max': -73.9546330328,\n",
       "  'Lon_Min': -73.9925296181,\n",
       "  'X_Coordinate': 23,\n",
       "  'Y_Coordinate': 33,\n",
       "  'prediction': 51.6244357316},\n",
       " {'Lat_Max': 40.7465085115,\n",
       "  'Lat_Min': 40.7446099503,\n",
       "  'Lon_Max': -73.9527344717,\n",
       "  'Lon_Min': -73.9917219062,\n",
       "  'X_Coordinate': 23,\n",
       "  'Y_Coordinate': 34,\n",
       "  'prediction': 51.6244357316},\n",
       " {'Lat_Max': 40.7465085115,\n",
       "  'Lat_Min': 40.7446099503,\n",
       "  'Lon_Max': -73.9508359105,\n",
       "  'Lon_Min': -73.9909141942,\n",
       "  'X_Coordinate': 23,\n",
       "  'Y_Coordinate': 35,\n",
       "  'prediction': 51.6244357316},\n",
       " {'Lat_Max': 40.7484070727,\n",
       "  'Lat_Min': 40.7465085115,\n",
       "  'Lon_Max': -73.9584301552,\n",
       "  'Lon_Min': -73.994145042,\n",
       "  'X_Coordinate': 24,\n",
       "  'Y_Coordinate': 31,\n",
       "  'prediction': 45.4235689681},\n",
       " {'Lat_Max': 40.7484070727,\n",
       "  'Lat_Min': 40.7465085115,\n",
       "  'Lon_Max': -73.956531594,\n",
       "  'Lon_Min': -73.9933373301,\n",
       "  'X_Coordinate': 24,\n",
       "  'Y_Coordinate': 32,\n",
       "  'prediction': 45.5234213911},\n",
       " {'Lat_Max': 40.7484070727,\n",
       "  'Lat_Min': 40.7465085115,\n",
       "  'Lon_Max': -73.9546330328,\n",
       "  'Lon_Min': -73.9925296181,\n",
       "  'X_Coordinate': 24,\n",
       "  'Y_Coordinate': 33,\n",
       "  'prediction': 45.5234213911},\n",
       " {'Lat_Max': 40.7484070727,\n",
       "  'Lat_Min': 40.7465085115,\n",
       "  'Lon_Max': -73.9527344717,\n",
       "  'Lon_Min': -73.9917219062,\n",
       "  'X_Coordinate': 24,\n",
       "  'Y_Coordinate': 34,\n",
       "  'prediction': 45.4880886431},\n",
       " {'Lat_Max': 40.7484070727,\n",
       "  'Lat_Min': 40.7465085115,\n",
       "  'Lon_Max': -73.9508359105,\n",
       "  'Lon_Min': -73.9909141942,\n",
       "  'X_Coordinate': 24,\n",
       "  'Y_Coordinate': 35,\n",
       "  'prediction': 45.4972631804}]"
      ]
     },
     "execution_count": 20,
     "metadata": {},
     "output_type": "execute_result"
    }
   ],
   "source": [
    "r2.json()"
   ]
  },
  {
   "cell_type": "code",
   "execution_count": 16,
   "metadata": {},
   "outputs": [
    {
     "data": {
      "text/plain": [
       "200"
      ]
     },
     "execution_count": 16,
     "metadata": {},
     "output_type": "execute_result"
    }
   ],
   "source": [
    "#check if request successful\n",
    "#r2.raise_for_status()\n",
    "r.status_code #http status code: 200 -> OK"
   ]
  },
  {
   "cell_type": "code",
   "execution_count": 32,
   "metadata": {
    "scrolled": true
   },
   "outputs": [
    {
     "ename": "NameError",
     "evalue": "name 'manh_pred' is not defined",
     "output_type": "error",
     "traceback": [
      "\u001b[0;31m---------------------------------------------------------------------------\u001b[0m",
      "\u001b[0;31mNameError\u001b[0m                                 Traceback (most recent call last)",
      "\u001b[0;32m<ipython-input-32-dc2995ca3115>\u001b[0m in \u001b[0;36m<module>\u001b[0;34m()\u001b[0m\n\u001b[1;32m      6\u001b[0m \u001b[0mmanh_geo\u001b[0m \u001b[0;34m=\u001b[0m \u001b[0;34mf'{url}/manhattan.json'\u001b[0m \u001b[0;31m#api in geojson?\u001b[0m\u001b[0;34m\u001b[0m\u001b[0m\n\u001b[1;32m      7\u001b[0m \u001b[0;31m#manh_pred = f'{url}/xy.csv'\u001b[0m\u001b[0;34m\u001b[0m\u001b[0;34m\u001b[0m\u001b[0m\n\u001b[0;32m----> 8\u001b[0;31m \u001b[0mmanh_data\u001b[0m \u001b[0;34m=\u001b[0m \u001b[0mpd\u001b[0m\u001b[0;34m.\u001b[0m\u001b[0mread_csv\u001b[0m\u001b[0;34m(\u001b[0m\u001b[0mmanh_pred\u001b[0m\u001b[0;34m)\u001b[0m\u001b[0;34m\u001b[0m\u001b[0m\n\u001b[0m\u001b[1;32m      9\u001b[0m \u001b[0;34m\u001b[0m\u001b[0m\n\u001b[1;32m     10\u001b[0m \u001b[0mm_new\u001b[0m \u001b[0;34m=\u001b[0m \u001b[0mfolium\u001b[0m\u001b[0;34m.\u001b[0m\u001b[0mMap\u001b[0m\u001b[0;34m(\u001b[0m\u001b[0mlocation\u001b[0m\u001b[0;34m=\u001b[0m\u001b[0;34m[\u001b[0m\u001b[0;36m40.740812828\u001b[0m\u001b[0;34m,\u001b[0m \u001b[0;34m-\u001b[0m\u001b[0;36m73.9584301552\u001b[0m\u001b[0;34m]\u001b[0m\u001b[0;34m)\u001b[0m \u001b[0;31m#daten des jeweiligen Gebiets hier statisch\u001b[0m\u001b[0;34m\u001b[0m\u001b[0m\n",
      "\u001b[0;31mNameError\u001b[0m: name 'manh_pred' is not defined"
     ]
    }
   ],
   "source": [
    "import folium\n",
    "import pandas as pd\n",
    "#Chloropleth Map\n",
    "\n",
    "#Manhattan geo\n",
    "manh_geo = f'{url}/manhattan.json' #api in geojson?\n",
    "#manh_pred = f'{url}/xy.csv'\n",
    "manh_data = pd.read_csv(manh_pred)\n",
    "\n",
    "m_new = folium.Map(location=[40.740812828, -73.9584301552]) #daten des jeweiligen Gebiets hier statisch\n",
    "\n"
   ]
  },
  {
   "cell_type": "code",
   "execution_count": 33,
   "metadata": {},
   "outputs": [],
   "source": [
    "def generateBaseMap(default_location=[40.740812828, -73.9584301552], default_zoom_start=12):\n",
    "    base_map = folium.Map(location=default_location, control_scale=True, zoom_start=default_zoom_start)\n",
    "    return base_map"
   ]
  },
  {
   "cell_type": "code",
   "execution_count": 31,
   "metadata": {},
   "outputs": [
    {
     "data": {
      "text/html": [
       "<div style=\"width:100%;\"><div style=\"position:relative;width:100%;height:0;padding-bottom:60%;\"><iframe src=\"data:text/html;charset=utf-8;base64,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\" style=\"position:absolute;width:100%;height:100%;left:0;top:0;border:none !important;\" allowfullscreen webkitallowfullscreen mozallowfullscreen></iframe></div></div>"
      ],
      "text/plain": [
       "<folium.folium.Map at 0x10612d780>"
      ]
     },
     "execution_count": 31,
     "metadata": {},
     "output_type": "execute_result"
    }
   ],
   "source": [
    "base_map = generateBaseMap()\n",
    "base_map"
   ]
  },
  {
   "cell_type": "code",
   "execution_count": null,
   "metadata": {},
   "outputs": [],
   "source": []
  }
 ],
 "metadata": {
  "kernelspec": {
   "display_name": "Python 3",
   "language": "python",
   "name": "python3"
  },
  "language_info": {
   "codemirror_mode": {
    "name": "ipython",
    "version": 3
   },
   "file_extension": ".py",
   "mimetype": "text/x-python",
   "name": "python",
   "nbconvert_exporter": "python",
   "pygments_lexer": "ipython3",
   "version": "3.6.4"
  }
 },
 "nbformat": 4,
 "nbformat_minor": 2
}
